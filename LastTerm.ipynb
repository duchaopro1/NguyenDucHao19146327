{
  "nbformat": 4,
  "nbformat_minor": 0,
  "metadata": {
    "colab": {
      "name": "LastTerm",
      "provenance": []
    },
    "kernelspec": {
      "name": "python3",
      "display_name": "Python 3"
    },
    "language_info": {
      "name": "python"
    }
  },
  "cells": [
    {
      "cell_type": "code",
      "execution_count": null,
      "metadata": {
        "id": "ocG72xvRn3rH"
      },
      "outputs": [],
      "source": [
        "# Khai báo thư viện - các biến\n",
        "from keras.preprocessing.image    import load_img\n",
        "from keras.preprocessing.image    import img_to_array\n",
        "from keras.models                 import load_model\n",
        "from keras.utils                  import np_utils\n",
        "from keras.datasets               import cifar10\n",
        "from keras.utils                  import np_utils\n",
        "from keras.models                 import Sequential\n",
        "from keras.layers                 import Dense, Activation, BatchNormalization, Dropout, LSTM\n",
        "from keras.layers                 import Conv2D\n",
        "from keras.layers                 import MaxPooling2D\n",
        "from keras.layers                 import Flatten\n",
        "from keras.callbacks              import EarlyStopping \n",
        "from tensorflow.keras.optimizers  import SGD\n",
        "import matplotlib.pyplot          as     plt\n",
        "import numpy                      as     np"
      ]
    },
    {
      "cell_type": "code",
      "source": [
        "x_train = np.zeros((642,200,200,3))\n",
        "x_test = np.zeros((61,200,200,3))"
      ],
      "metadata": {
        "id": "wb4HmEPyn94Q"
      },
      "execution_count": null,
      "outputs": []
    },
    {
      "cell_type": "code",
      "source": [
        "# Gán giá trị cho y_train, y_test\n",
        "y_train = [0,0,0,0,0,0,0,0,0,0,\n",
        "           0,0,0,0,0,0,0,0,0,0,\n",
        "           0,0,0,0,0,0,0,0,0,0,\n",
        "           0,0,0,0,0,0,0,0,0,0,\n",
        "           0,0,0,0,0,0,0,0,0,0,\n",
        "           0,0,0,0,0,0,0,0,0,0,\n",
        "           0,0,0,0,0,0,0,0,0,0,\n",
        "           0,0,0,0,0,0,0,0,0,0,\n",
        "           0,0,0,0,0,0,0,0,0,0,\n",
        "           0,0,0,0,0,0,0,0,0,0,\n",
        "           0,0,0,0,0,0,0,0,0,0,\n",
        "           0,0,0,0,0,0,0,0,0,0,\n",
        "           0,0,0,0,0,0,\n",
        "\n",
        "           1,1,1,1,1,1,1,1,1,1,\n",
        "           \n",
        "           1,1,1,1,1,1,1,1,1,1,\n",
        "           1,1,1,1,1,1,1,1,1,1,\n",
        "           1,1,1,1,1,1,1,1,1,1,\n",
        "           1,1,1,1,1,1,1,1,1,1,\n",
        "           1,1,1,1,1,1,1,1,1,1,\n",
        "           1,1,1,1,1,1,1,1,1,1,\n",
        "           1,1,1,1,1,1,1,1,1,1,\n",
        "           1,1,1,1,1,1,1,1,1,1,\n",
        "           1,1,1,1,1,1,1,1,1,1,\n",
        "           1,1,\n",
        "\n",
        "           2,2,2,2,2,2,2,2,2,2,\n",
        "           2,2,2,2,2,2,2,2,2,2,\n",
        "           2,2,2,2,2,2,2,2,2,2,\n",
        "           2,2,2,2,2,2,2,2,2,2,\n",
        "           2,2,2,2,2,2,2,2,2,2,\n",
        "           2,2,2,2,2,2,2,2,2,2,\n",
        "           2,2,2,2,2,2,2,2,2,2,\n",
        "           2,2,2,2,2,2,2,2,2,2,\n",
        "           2,2,2,2,2,2,2,2,2,2,\n",
        "           2,2,2,2,2,2,2,2,2,2,\n",
        "\n",
        "           2,2,2,2,2,2,2,2,2,2,\n",
        "           2,2,2,2,2,2,2,2,2,2,\n",
        "           2,2,2,2,2,2,2,2,2,2,\n",
        "           2,2,2,2,2,2,2,2,2,2,\n",
        "           2,2,2,2,2,2,2,2,2,2,\n",
        "           2,2,2,2,2,2,2,2,2,2,\n",
        "           2,2,2,2,2,2,2,2,2,2,\n",
        "           2,2,2,2,2,2,2,2,2,2,\n",
        "           2,2,2,2,2,2,2,2,2,2,\n",
        "           2,2,2,2,2,2,2,2,2,2,\n",
        "\n",
        "           2,2,2,2,2,2,2,2,2,2,\n",
        "           2,2,2,2,2,2,2,2,2,2,\n",
        "           2,2,2,2,2,2,2,2,2,2,\n",
        "           2,2,2,2,2,2,2,2,2,2,\n",
        "           2,2,2,2,2,2,2,2,2,2,\n",
        "           2,2,2,2,2,2,2,2,2,2,\n",
        "           2,2,2,2,2,2,2,2,2,2,\n",
        "           2,2,2,2,2,2,2,2,2,2,\n",
        "           2,2,2,2,2,2,2,2,2,2,\n",
        "           2,2,2,2,2,2,2,2,2,2,\n",
        "\n",
        "           2,2,2,2,2,2,2,2,2,2,\n",
        "           2,2,2,2,2,2,2,2,2,2,\n",
        "           2,2,2,2,2,2,2,2,2,2,\n",
        "           2,2,2,2,2,2,2,2,2,2,\n",
        "           2,2,2,2,2,2,2,2,2,2,\n",
        "           2,2,2,2,2,2,2,2,2,2,\n",
        "           2,2,2,2,2,2,2,2,2,2,\n",
        "           2,2,2,2,2,2,2,2,2,2,\n",
        "           2,2,2,2,2,2,2,2,2,2,\n",
        "           2,2,2,2,2,2,2,2,2,2,\n",
        "\n",
        "           2,2,2,2,2,2,2,2,2,2,\n",
        "           2,2,2,2,]\n",
        "\n",
        "y_test = [0,0,0,0,0,0,0,0,0,0,0,\n",
        "          1,1,1,1,1,1,1,1,1,1,\n",
        "          2,2,2,2,2,2,2,2,2,2,\n",
        "          2,2,2,2,2,2,2,2,2,2,\n",
        "          2,2,2,2,2,2,2,2,2,2,\n",
        "          2,2,2,2,2,2,2,2,2,2]"
      ],
      "metadata": {
        "id": "O2c_qPGIoAcZ"
      },
      "execution_count": null,
      "outputs": []
    },
    {
      "cell_type": "code",
      "source": [
        "for i in range(125):\n",
        "  x_train[i] = load_img('/content/drive/MyDrive/AI/Breast Cancer/train/benign'+ str(i+1) +'.png', target_size=(200,200))\n",
        "  x_train[i] = img_to_array(x_train[i]) \n",
        "  \n",
        "for i in range(126,227):\n",
        "  x_train[i] = load_img('/content/drive/MyDrive/AI/Breast Cancer/train/malignant'+ str(i+1-127) +'.png', target_size=(200,200))\n",
        "  x_train[i] = img_to_array(x_train[i])  \n",
        "\n",
        "for i in range(228,642):\n",
        "  x_train[i] = load_img('/content/drive/MyDrive/AI/Breast Cancer/train/norma'+ str(i+1-229) +'.png', target_size=(200,200))\n",
        "  x_train[i] = img_to_array(x_train[i]) \n",
        "\n",
        "for i in range(10):\n",
        "  x_test[i] = load_img('/content/drive/MyDrive/AI/Breast Cancer/test/benign'+ str(i+1) +'.png', target_size=(200,200))\n",
        "  x_test[i] = img_to_array(x_test[i]) \n",
        "\n",
        "for i in range(11,20):\n",
        "  x_test[i] = load_img('/content/drive/MyDrive/AI/Breast Cancer/test/malignant'+ str(i+1-11) +'.png', target_size=(200,200))\n",
        "  x_test[i] = img_to_array(x_test[i]) \n",
        "\n",
        "for i in range(21,60):\n",
        "  x_test[i] = load_img('/content/drive/MyDrive/AI/Breast Cancer/test/normal'+ str(i+1-21) +'.png', target_size=(200,200))\n",
        "  x_test[i] = img_to_array(x_test[i]) "
      ],
      "metadata": {
        "id": "cPOB3rEAoC-j"
      },
      "execution_count": null,
      "outputs": []
    },
    {
      "cell_type": "code",
      "source": [
        "x_train = x_train.reshape(642,200, 200,3)\n",
        "x_test = x_test.reshape(61,200, 200,3)\n",
        "x_train = x_train.astype('float32')\n",
        "x_test = x_test.astype('float32')\n",
        "\n",
        "x_train/=255 # Chia từ ảnh màu thành ảnh xám\n",
        "x_test/=255\n",
        "\n",
        "y_train = np_utils.to_categorical(y_train,3)\n",
        "y_test = np_utils.to_categorical(y_test,3)"
      ],
      "metadata": {
        "id": "pHDaPtcWoEEW"
      },
      "execution_count": null,
      "outputs": []
    },
    {
      "cell_type": "code",
      "source": [
        "# Xây dựng model\n",
        "model = Sequential()\n",
        "\n",
        "model.add(Conv2D(32, (3, 3), activation='relu', \n",
        "                 kernel_initializer='he_uniform', \n",
        "                 padding='same', input_shape=(200, 200, 3)))\n",
        "\n",
        "model.add(BatchNormalization())\n",
        "model.add(Conv2D(32, (3, 3), activation='relu', \n",
        "                 kernel_initializer='he_uniform', \n",
        "                 padding='same'))\n",
        "model.add(BatchNormalization())\n",
        "model.add(MaxPooling2D((2, 2)))\n",
        "model.add(Dropout(0.2))\n",
        "\n",
        "model.add(Conv2D(64, (3, 3), activation='relu', \n",
        "                 kernel_initializer='he_uniform', \n",
        "                 padding='same'))\n",
        "model.add(BatchNormalization())\n",
        "model.add(Conv2D(64, (3, 3), activation='relu', \n",
        "                 kernel_initializer='he_uniform', \n",
        "                 padding='same'))\n",
        "model.add(BatchNormalization())\t\n",
        "model.add(MaxPooling2D((2, 2)))\n",
        "model.add(Dropout(0.2))\n",
        "\n",
        "model.add(Conv2D(128, (3, 3), activation='relu', \n",
        "                 kernel_initializer='he_uniform', \n",
        "                 padding='same'))\n",
        "model.add(BatchNormalization())\n",
        "model.add(Conv2D(128, (3, 3), activation='relu', \n",
        "                 kernel_initializer='he_uniform',\n",
        "                 padding='same'))\n",
        "model.add(BatchNormalization())\t\n",
        "model.add(MaxPooling2D((2, 2)))\n",
        "model.add(Dropout(0.2))\n",
        "\n",
        "model.add(Flatten())\n",
        "model.add(Dense(128, activation='relu', \n",
        "                kernel_initializer='he_uniform'))\n",
        "model.add(BatchNormalization())\n",
        "model.add(Dropout(0.2))\t\n",
        "model.add(Dense(3, activation='sigmoid'))\n",
        "model.summary()"
      ],
      "metadata": {
        "id": "VgwdT0-zoIIG"
      },
      "execution_count": null,
      "outputs": []
    },
    {
      "cell_type": "code",
      "source": [
        "# Training\n",
        "opt=SGD(learning_rate=0.01,momentum=0.9)\n",
        "model.compile(loss='categorical_crossentropy',optimizer=opt, metrics=['accuracy'])\n",
        "history = model.fit(x_train,y_train,epochs=100,batch_size=32,validation_data=(x_test,y_test),verbose=1)\n",
        "# Save model\n",
        "model.save('breastcancer3.h5')"
      ],
      "metadata": {
        "id": "eITUw_NaoInI"
      },
      "execution_count": null,
      "outputs": []
    },
    {
      "cell_type": "code",
      "source": [
        "#Vẽ đồ thị\n",
        "plt.plot(history.history['accuracy'])\n",
        "plt.plot(history.history['val_accuracy'])\n",
        "plt.title('Model accuracy')\n",
        "plt.ylabel('accuracy')\n",
        "plt.xlabel('epach')\n",
        "plt.legend(['Train','Validation'],loc='upper left')\n",
        "plt.show\n",
        "\n",
        "score = model.evaluate(x_test,y_test,verbose=0)\n",
        "print('Test loss:', score[0])\n",
        "print('Test accuracy', score[1])"
      ],
      "metadata": {
        "id": "3YHHelz8oKVO"
      },
      "execution_count": null,
      "outputs": []
    },
    {
      "cell_type": "code",
      "source": [
        "#from keras.preprocessing.image import load_img\n",
        "#from keras.preprocessing.image import img_to_array\n",
        "#from keras.models import load_model\n",
        "img3 = load_img('/content/Screenshot 2022-06-11 001524.png', target_size=(200, 200))\n",
        "img3 = img_to_array(img3)\n",
        "img3 = img3.reshape(1, 200, 200, 3)\n",
        "img3 = img3.astype('float32')\n",
        "img3 = img3 / 255.0\n",
        "# load model\n",
        "model_final = load_model('breastcancer2.h5')\n",
        "plt.imshow(img3.reshape(200,200,3), cmap='gray')\n",
        "# predict the class\n",
        "result = model.predict(img3.reshape(1,200,200,3))\n",
        "if np.argmax(result) == 0:\n",
        "   k = \"Begnign\"\n",
        "elif np.argmax(result) == 1:\n",
        "   k = \"Malignant\"\n",
        "else:\n",
        "   k = \"Normal\"\n",
        "print('Giá trị dự đoán:', k)\n",
        "plt.show()"
      ],
      "metadata": {
        "id": "YR5dpN25oLid"
      },
      "execution_count": null,
      "outputs": []
    }
  ]
}